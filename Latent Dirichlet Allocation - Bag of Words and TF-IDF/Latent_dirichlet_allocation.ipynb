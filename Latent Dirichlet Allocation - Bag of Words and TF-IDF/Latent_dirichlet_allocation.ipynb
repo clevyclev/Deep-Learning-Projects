{
 "cells": [
  {
   "cell_type": "markdown",
   "metadata": {},
   "source": [
    "## Step 0: Latent Dirichlet Allocation ##\n",
    "\n",
    "LDA is used to classify text in a document to a particular topic. It builds a topic per document model and words per topic model, modeled as Dirichlet distributions. \n",
    "\n",
    "* Each document is modeled as a multinomial distribution of topics and each topic is modeled as a multinomial distribution of words.\n",
    "* LDA assumes that the every chunk of text we feed into it will contain words that are somehow related. Therefore choosing the right corpus of data is crucial. \n",
    "* It also assumes documents are produced from a mixture of topics. Those topics then generate words based on their probability distribution. "
   ]
  },
  {
   "cell_type": "markdown",
   "metadata": {},
   "source": [
    "## Step 1: Load the dataset\n",
    "\n",
    "The dataset we'll use is a list of over one million news headlines published over a period of 15 years. We'll start by loading it from the `abcnews-date-text.csv` file."
   ]
  },
  {
   "cell_type": "code",
   "execution_count": 1,
   "metadata": {},
   "outputs": [],
   "source": [
    "'''\n",
    "Load the dataset from the CSV and save it to 'data_text'\n",
    "'''\n",
    "import pandas as pd\n",
    "data = pd.read_csv('abcnews-date-text.csv', error_bad_lines=False);\n",
    "# We only need the Headlines text column from the data\n",
    "data_text = data[:300000][['headline_text']];\n",
    "data_text['index'] = data_text.index\n",
    "\n",
    "documents = data_text"
   ]
  },
  {
   "cell_type": "markdown",
   "metadata": {},
   "source": [
    "Let's glance at the dataset:"
   ]
  },
  {
   "cell_type": "code",
   "execution_count": 2,
   "metadata": {},
   "outputs": [
    {
     "name": "stdout",
     "output_type": "stream",
     "text": [
      "300000\n"
     ]
    }
   ],
   "source": [
    "'''\n",
    "Get the total number of documents\n",
    "'''\n",
    "print(len(documents))"
   ]
  },
  {
   "cell_type": "code",
   "execution_count": 3,
   "metadata": {},
   "outputs": [
    {
     "data": {
      "text/html": [
       "<div>\n",
       "<style>\n",
       "    .dataframe thead tr:only-child th {\n",
       "        text-align: right;\n",
       "    }\n",
       "\n",
       "    .dataframe thead th {\n",
       "        text-align: left;\n",
       "    }\n",
       "\n",
       "    .dataframe tbody tr th {\n",
       "        vertical-align: top;\n",
       "    }\n",
       "</style>\n",
       "<table border=\"1\" class=\"dataframe\">\n",
       "  <thead>\n",
       "    <tr style=\"text-align: right;\">\n",
       "      <th></th>\n",
       "      <th>headline_text</th>\n",
       "      <th>index</th>\n",
       "    </tr>\n",
       "  </thead>\n",
       "  <tbody>\n",
       "    <tr>\n",
       "      <th>0</th>\n",
       "      <td>aba decides against community broadcasting lic...</td>\n",
       "      <td>0</td>\n",
       "    </tr>\n",
       "    <tr>\n",
       "      <th>1</th>\n",
       "      <td>act fire witnesses must be aware of defamation</td>\n",
       "      <td>1</td>\n",
       "    </tr>\n",
       "    <tr>\n",
       "      <th>2</th>\n",
       "      <td>a g calls for infrastructure protection summit</td>\n",
       "      <td>2</td>\n",
       "    </tr>\n",
       "    <tr>\n",
       "      <th>3</th>\n",
       "      <td>air nz staff in aust strike for pay rise</td>\n",
       "      <td>3</td>\n",
       "    </tr>\n",
       "    <tr>\n",
       "      <th>4</th>\n",
       "      <td>air nz strike to affect australian travellers</td>\n",
       "      <td>4</td>\n",
       "    </tr>\n",
       "  </tbody>\n",
       "</table>\n",
       "</div>"
      ],
      "text/plain": [
       "                                       headline_text  index\n",
       "0  aba decides against community broadcasting lic...      0\n",
       "1     act fire witnesses must be aware of defamation      1\n",
       "2     a g calls for infrastructure protection summit      2\n",
       "3           air nz staff in aust strike for pay rise      3\n",
       "4      air nz strike to affect australian travellers      4"
      ]
     },
     "execution_count": 3,
     "metadata": {},
     "output_type": "execute_result"
    }
   ],
   "source": [
    "documents[:5]"
   ]
  },
  {
   "cell_type": "markdown",
   "metadata": {},
   "source": [
    "## Step 2: Data Preprocessing ##\n",
    "\n",
    "We will perform the following steps:\n",
    "\n",
    "* **Tokenization**: Split the text into sentences and the sentences into words. Lowercase the words and remove punctuation.\n",
    "* Words that have fewer than 3 characters are removed.\n",
    "* All **stopwords** are removed.\n",
    "* Words are **lemmatized** - words in third person are changed to first person and verbs in past and future tenses are changed into present.\n",
    "* Words are **stemmed** - words are reduced to their root form.\n"
   ]
  },
  {
   "cell_type": "code",
   "execution_count": 4,
   "metadata": {},
   "outputs": [],
   "source": [
    "'''\n",
    "Loading Gensim and nltk libraries\n",
    "'''\n",
    "# pip install gensim\n",
    "import gensim\n",
    "from gensim.utils import simple_preprocess\n",
    "from gensim.parsing.preprocessing import STOPWORDS\n",
    "from nltk.stem import WordNetLemmatizer, SnowballStemmer\n",
    "from nltk.stem.porter import *\n",
    "import numpy as np\n",
    "np.random.seed(400)"
   ]
  },
  {
   "cell_type": "code",
   "execution_count": 5,
   "metadata": {},
   "outputs": [
    {
     "name": "stdout",
     "output_type": "stream",
     "text": [
      "[nltk_data] Downloading package wordnet to /root/nltk_data...\n",
      "[nltk_data]   Unzipping corpora/wordnet.zip.\n"
     ]
    },
    {
     "data": {
      "text/plain": [
       "True"
      ]
     },
     "execution_count": 5,
     "metadata": {},
     "output_type": "execute_result"
    }
   ],
   "source": [
    "import nltk\n",
    "nltk.download('wordnet')"
   ]
  },
  {
   "cell_type": "markdown",
   "metadata": {},
   "source": [
    "### Lemmatizer Example\n",
    "Before preprocessing our dataset, let's first look at an lemmatizing example. What would be the output if we lemmatized the word 'went':"
   ]
  },
  {
   "cell_type": "code",
   "execution_count": 6,
   "metadata": {},
   "outputs": [
    {
     "name": "stdout",
     "output_type": "stream",
     "text": [
      "go\n"
     ]
    }
   ],
   "source": [
    "print(WordNetLemmatizer().lemmatize('went', pos = 'v')) # past tense to present tense"
   ]
  },
  {
   "cell_type": "markdown",
   "metadata": {},
   "source": [
    "### Stemmer Example\n",
    "Let's also look at a stemming example. Let's throw a number of words at the stemmer and see how it deals with each one:"
   ]
  },
  {
   "cell_type": "code",
   "execution_count": 7,
   "metadata": {},
   "outputs": [
    {
     "data": {
      "text/html": [
       "<div>\n",
       "<style>\n",
       "    .dataframe thead tr:only-child th {\n",
       "        text-align: right;\n",
       "    }\n",
       "\n",
       "    .dataframe thead th {\n",
       "        text-align: left;\n",
       "    }\n",
       "\n",
       "    .dataframe tbody tr th {\n",
       "        vertical-align: top;\n",
       "    }\n",
       "</style>\n",
       "<table border=\"1\" class=\"dataframe\">\n",
       "  <thead>\n",
       "    <tr style=\"text-align: right;\">\n",
       "      <th></th>\n",
       "      <th>original word</th>\n",
       "      <th>stemmed</th>\n",
       "    </tr>\n",
       "  </thead>\n",
       "  <tbody>\n",
       "    <tr>\n",
       "      <th>0</th>\n",
       "      <td>caresses</td>\n",
       "      <td>caress</td>\n",
       "    </tr>\n",
       "    <tr>\n",
       "      <th>1</th>\n",
       "      <td>flies</td>\n",
       "      <td>fli</td>\n",
       "    </tr>\n",
       "    <tr>\n",
       "      <th>2</th>\n",
       "      <td>dies</td>\n",
       "      <td>die</td>\n",
       "    </tr>\n",
       "    <tr>\n",
       "      <th>3</th>\n",
       "      <td>mules</td>\n",
       "      <td>mule</td>\n",
       "    </tr>\n",
       "    <tr>\n",
       "      <th>4</th>\n",
       "      <td>denied</td>\n",
       "      <td>deni</td>\n",
       "    </tr>\n",
       "    <tr>\n",
       "      <th>5</th>\n",
       "      <td>died</td>\n",
       "      <td>die</td>\n",
       "    </tr>\n",
       "    <tr>\n",
       "      <th>6</th>\n",
       "      <td>agreed</td>\n",
       "      <td>agre</td>\n",
       "    </tr>\n",
       "    <tr>\n",
       "      <th>7</th>\n",
       "      <td>owned</td>\n",
       "      <td>own</td>\n",
       "    </tr>\n",
       "    <tr>\n",
       "      <th>8</th>\n",
       "      <td>humbled</td>\n",
       "      <td>humbl</td>\n",
       "    </tr>\n",
       "    <tr>\n",
       "      <th>9</th>\n",
       "      <td>sized</td>\n",
       "      <td>size</td>\n",
       "    </tr>\n",
       "    <tr>\n",
       "      <th>10</th>\n",
       "      <td>meeting</td>\n",
       "      <td>meet</td>\n",
       "    </tr>\n",
       "    <tr>\n",
       "      <th>11</th>\n",
       "      <td>stating</td>\n",
       "      <td>state</td>\n",
       "    </tr>\n",
       "    <tr>\n",
       "      <th>12</th>\n",
       "      <td>siezing</td>\n",
       "      <td>siez</td>\n",
       "    </tr>\n",
       "    <tr>\n",
       "      <th>13</th>\n",
       "      <td>itemization</td>\n",
       "      <td>item</td>\n",
       "    </tr>\n",
       "    <tr>\n",
       "      <th>14</th>\n",
       "      <td>sensational</td>\n",
       "      <td>sensat</td>\n",
       "    </tr>\n",
       "    <tr>\n",
       "      <th>15</th>\n",
       "      <td>traditional</td>\n",
       "      <td>tradit</td>\n",
       "    </tr>\n",
       "    <tr>\n",
       "      <th>16</th>\n",
       "      <td>reference</td>\n",
       "      <td>refer</td>\n",
       "    </tr>\n",
       "    <tr>\n",
       "      <th>17</th>\n",
       "      <td>colonizer</td>\n",
       "      <td>colon</td>\n",
       "    </tr>\n",
       "    <tr>\n",
       "      <th>18</th>\n",
       "      <td>plotted</td>\n",
       "      <td>plot</td>\n",
       "    </tr>\n",
       "  </tbody>\n",
       "</table>\n",
       "</div>"
      ],
      "text/plain": [
       "   original word stemmed\n",
       "0       caresses  caress\n",
       "1          flies     fli\n",
       "2           dies     die\n",
       "3          mules    mule\n",
       "4         denied    deni\n",
       "5           died     die\n",
       "6         agreed    agre\n",
       "7          owned     own\n",
       "8        humbled   humbl\n",
       "9          sized    size\n",
       "10       meeting    meet\n",
       "11       stating   state\n",
       "12       siezing    siez\n",
       "13   itemization    item\n",
       "14   sensational  sensat\n",
       "15   traditional  tradit\n",
       "16     reference   refer\n",
       "17     colonizer   colon\n",
       "18       plotted    plot"
      ]
     },
     "execution_count": 7,
     "metadata": {},
     "output_type": "execute_result"
    }
   ],
   "source": [
    "stemmer = SnowballStemmer(\"english\")\n",
    "original_words = ['caresses', 'flies', 'dies', 'mules', 'denied','died', 'agreed', 'owned', \n",
    "           'humbled', 'sized','meeting', 'stating', 'siezing', 'itemization','sensational', \n",
    "           'traditional', 'reference', 'colonizer','plotted']\n",
    "singles = [stemmer.stem(plural) for plural in original_words]\n",
    "\n",
    "pd.DataFrame(data={'original word':original_words, 'stemmed':singles })"
   ]
  },
  {
   "cell_type": "code",
   "execution_count": 8,
   "metadata": {},
   "outputs": [],
   "source": [
    "'''\n",
    "Write a function to perform the pre processing steps on the entire dataset\n",
    "'''\n",
    "def lemmatize_stemming(text):\n",
    "    return stemmer.stem(WordNetLemmatizer().lemmatize(text, pos='v'))\n",
    "\n",
    "# Tokenize and lemmatize\n",
    "def preprocess(text):\n",
    "    result=[]\n",
    "    for token in gensim.utils.simple_preprocess(text) :\n",
    "        if token not in gensim.parsing.preprocessing.STOPWORDS and len(token) > 3:\n",
    "            # TODO: Apply lemmatize_stemming() on the token, then add to the results list\n",
    "            result.append(lemmatize_stemming(token))\n",
    "    return result\n",
    "\n"
   ]
  },
  {
   "cell_type": "code",
   "execution_count": 9,
   "metadata": {},
   "outputs": [
    {
     "name": "stdout",
     "output_type": "stream",
     "text": [
      "Original document: \n",
      "['rain', 'helps', 'dampen', 'bushfires']\n",
      "\n",
      "\n",
      "Tokenized and lemmatized document: \n",
      "['rain', 'help', 'dampen', 'bushfir']\n"
     ]
    }
   ],
   "source": [
    "'''\n",
    "Preview a document after preprocessing\n",
    "'''\n",
    "document_num = 4310\n",
    "doc_sample = documents[documents['index'] == document_num].values[0][0]\n",
    "\n",
    "print(\"Original document: \")\n",
    "words = []\n",
    "for word in doc_sample.split(' '):\n",
    "    words.append(word)\n",
    "print(words)\n",
    "print(\"\\n\\nTokenized and lemmatized document: \")\n",
    "print(preprocess(doc_sample))"
   ]
  },
  {
   "cell_type": "code",
   "execution_count": 10,
   "metadata": {
    "scrolled": true
   },
   "outputs": [
    {
     "data": {
      "text/html": [
       "<div>\n",
       "<style>\n",
       "    .dataframe thead tr:only-child th {\n",
       "        text-align: right;\n",
       "    }\n",
       "\n",
       "    .dataframe thead th {\n",
       "        text-align: left;\n",
       "    }\n",
       "\n",
       "    .dataframe tbody tr th {\n",
       "        vertical-align: top;\n",
       "    }\n",
       "</style>\n",
       "<table border=\"1\" class=\"dataframe\">\n",
       "  <thead>\n",
       "    <tr style=\"text-align: right;\">\n",
       "      <th></th>\n",
       "      <th>headline_text</th>\n",
       "      <th>index</th>\n",
       "    </tr>\n",
       "  </thead>\n",
       "  <tbody>\n",
       "    <tr>\n",
       "      <th>0</th>\n",
       "      <td>aba decides against community broadcasting lic...</td>\n",
       "      <td>0</td>\n",
       "    </tr>\n",
       "    <tr>\n",
       "      <th>1</th>\n",
       "      <td>act fire witnesses must be aware of defamation</td>\n",
       "      <td>1</td>\n",
       "    </tr>\n",
       "    <tr>\n",
       "      <th>2</th>\n",
       "      <td>a g calls for infrastructure protection summit</td>\n",
       "      <td>2</td>\n",
       "    </tr>\n",
       "    <tr>\n",
       "      <th>3</th>\n",
       "      <td>air nz staff in aust strike for pay rise</td>\n",
       "      <td>3</td>\n",
       "    </tr>\n",
       "    <tr>\n",
       "      <th>4</th>\n",
       "      <td>air nz strike to affect australian travellers</td>\n",
       "      <td>4</td>\n",
       "    </tr>\n",
       "    <tr>\n",
       "      <th>5</th>\n",
       "      <td>ambitious olsson wins triple jump</td>\n",
       "      <td>5</td>\n",
       "    </tr>\n",
       "    <tr>\n",
       "      <th>6</th>\n",
       "      <td>antic delighted with record breaking barca</td>\n",
       "      <td>6</td>\n",
       "    </tr>\n",
       "    <tr>\n",
       "      <th>7</th>\n",
       "      <td>aussie qualifier stosur wastes four memphis match</td>\n",
       "      <td>7</td>\n",
       "    </tr>\n",
       "    <tr>\n",
       "      <th>8</th>\n",
       "      <td>aust addresses un security council over iraq</td>\n",
       "      <td>8</td>\n",
       "    </tr>\n",
       "    <tr>\n",
       "      <th>9</th>\n",
       "      <td>australia is locked into war timetable opp</td>\n",
       "      <td>9</td>\n",
       "    </tr>\n",
       "    <tr>\n",
       "      <th>10</th>\n",
       "      <td>australia to contribute 10 million in aid to iraq</td>\n",
       "      <td>10</td>\n",
       "    </tr>\n",
       "    <tr>\n",
       "      <th>11</th>\n",
       "      <td>barca take record as robson celebrates birthda...</td>\n",
       "      <td>11</td>\n",
       "    </tr>\n",
       "    <tr>\n",
       "      <th>12</th>\n",
       "      <td>bathhouse plans move ahead</td>\n",
       "      <td>12</td>\n",
       "    </tr>\n",
       "    <tr>\n",
       "      <th>13</th>\n",
       "      <td>big hopes for launceston cycling championship</td>\n",
       "      <td>13</td>\n",
       "    </tr>\n",
       "    <tr>\n",
       "      <th>14</th>\n",
       "      <td>big plan to boost paroo water supplies</td>\n",
       "      <td>14</td>\n",
       "    </tr>\n",
       "    <tr>\n",
       "      <th>15</th>\n",
       "      <td>blizzard buries united states in bills</td>\n",
       "      <td>15</td>\n",
       "    </tr>\n",
       "    <tr>\n",
       "      <th>16</th>\n",
       "      <td>brigadier dismisses reports troops harassed in</td>\n",
       "      <td>16</td>\n",
       "    </tr>\n",
       "    <tr>\n",
       "      <th>17</th>\n",
       "      <td>british combat troops arriving daily in kuwait</td>\n",
       "      <td>17</td>\n",
       "    </tr>\n",
       "    <tr>\n",
       "      <th>18</th>\n",
       "      <td>bryant leads lakers to double overtime win</td>\n",
       "      <td>18</td>\n",
       "    </tr>\n",
       "    <tr>\n",
       "      <th>19</th>\n",
       "      <td>bushfire victims urged to see centrelink</td>\n",
       "      <td>19</td>\n",
       "    </tr>\n",
       "    <tr>\n",
       "      <th>20</th>\n",
       "      <td>businesses should prepare for terrorist attacks</td>\n",
       "      <td>20</td>\n",
       "    </tr>\n",
       "    <tr>\n",
       "      <th>21</th>\n",
       "      <td>calleri avenges final defeat to eliminate massu</td>\n",
       "      <td>21</td>\n",
       "    </tr>\n",
       "    <tr>\n",
       "      <th>22</th>\n",
       "      <td>call for ethanol blend fuel to go ahead</td>\n",
       "      <td>22</td>\n",
       "    </tr>\n",
       "    <tr>\n",
       "      <th>23</th>\n",
       "      <td>carews freak goal leaves roma in ruins</td>\n",
       "      <td>23</td>\n",
       "    </tr>\n",
       "    <tr>\n",
       "      <th>24</th>\n",
       "      <td>cemeteries miss out on funds</td>\n",
       "      <td>24</td>\n",
       "    </tr>\n",
       "    <tr>\n",
       "      <th>25</th>\n",
       "      <td>code of conduct toughens organ donation regula...</td>\n",
       "      <td>25</td>\n",
       "    </tr>\n",
       "    <tr>\n",
       "      <th>26</th>\n",
       "      <td>commonwealth bank cuts fixed home loan rates</td>\n",
       "      <td>26</td>\n",
       "    </tr>\n",
       "    <tr>\n",
       "      <th>27</th>\n",
       "      <td>community urged to help homeless youth</td>\n",
       "      <td>27</td>\n",
       "    </tr>\n",
       "    <tr>\n",
       "      <th>28</th>\n",
       "      <td>council chief executive fails to secure position</td>\n",
       "      <td>28</td>\n",
       "    </tr>\n",
       "    <tr>\n",
       "      <th>29</th>\n",
       "      <td>councillor to contest wollongong as independent</td>\n",
       "      <td>29</td>\n",
       "    </tr>\n",
       "    <tr>\n",
       "      <th>...</th>\n",
       "      <td>...</td>\n",
       "      <td>...</td>\n",
       "    </tr>\n",
       "    <tr>\n",
       "      <th>299970</th>\n",
       "      <td>apple grower builds juice plant</td>\n",
       "      <td>299970</td>\n",
       "    </tr>\n",
       "    <tr>\n",
       "      <th>299971</th>\n",
       "      <td>aussie ramsi adviser dies in honiara</td>\n",
       "      <td>299971</td>\n",
       "    </tr>\n",
       "    <tr>\n",
       "      <th>299972</th>\n",
       "      <td>aust honours nz firie burnt during vic firestorms</td>\n",
       "      <td>299972</td>\n",
       "    </tr>\n",
       "    <tr>\n",
       "      <th>299973</th>\n",
       "      <td>aust soldiers injured in iraq</td>\n",
       "      <td>299973</td>\n",
       "    </tr>\n",
       "    <tr>\n",
       "      <th>299974</th>\n",
       "      <td>aust stands out in oecd figures for uni funding</td>\n",
       "      <td>299974</td>\n",
       "    </tr>\n",
       "    <tr>\n",
       "      <th>299975</th>\n",
       "      <td>aust to build western front museum to diggers</td>\n",
       "      <td>299975</td>\n",
       "    </tr>\n",
       "    <tr>\n",
       "      <th>299976</th>\n",
       "      <td>awb monopoly not realistic says costello</td>\n",
       "      <td>299976</td>\n",
       "    </tr>\n",
       "    <tr>\n",
       "      <th>299977</th>\n",
       "      <td>baldings killers allowed to appeal against</td>\n",
       "      <td>299977</td>\n",
       "    </tr>\n",
       "    <tr>\n",
       "      <th>299978</th>\n",
       "      <td>basinger hires security for daughter after bal...</td>\n",
       "      <td>299978</td>\n",
       "    </tr>\n",
       "    <tr>\n",
       "      <th>299979</th>\n",
       "      <td>beattie already has a funding pipeline howard</td>\n",
       "      <td>299979</td>\n",
       "    </tr>\n",
       "    <tr>\n",
       "      <th>299980</th>\n",
       "      <td>bendigo bank loses value after rejecting bid</td>\n",
       "      <td>299980</td>\n",
       "    </tr>\n",
       "    <tr>\n",
       "      <th>299981</th>\n",
       "      <td>bendigo bank rejects takeover plan</td>\n",
       "      <td>299981</td>\n",
       "    </tr>\n",
       "    <tr>\n",
       "      <th>299982</th>\n",
       "      <td>bhp announces record metals output</td>\n",
       "      <td>299982</td>\n",
       "    </tr>\n",
       "    <tr>\n",
       "      <th>299983</th>\n",
       "      <td>big crowds expected for goldfields esperance a...</td>\n",
       "      <td>299983</td>\n",
       "    </tr>\n",
       "    <tr>\n",
       "      <th>299984</th>\n",
       "      <td>blackall sportsman shoots for the top</td>\n",
       "      <td>299984</td>\n",
       "    </tr>\n",
       "    <tr>\n",
       "      <th>299985</th>\n",
       "      <td>blood test for tb</td>\n",
       "      <td>299985</td>\n",
       "    </tr>\n",
       "    <tr>\n",
       "      <th>299986</th>\n",
       "      <td>boats leave as lakes entrance faces more sand ...</td>\n",
       "      <td>299986</td>\n",
       "    </tr>\n",
       "    <tr>\n",
       "      <th>299987</th>\n",
       "      <td>bond oram back to spur kiwis</td>\n",
       "      <td>299987</td>\n",
       "    </tr>\n",
       "    <tr>\n",
       "      <th>299988</th>\n",
       "      <td>bonfire to celebrate babys birth</td>\n",
       "      <td>299988</td>\n",
       "    </tr>\n",
       "    <tr>\n",
       "      <th>299989</th>\n",
       "      <td>bore could solve water problems says liberal</td>\n",
       "      <td>299989</td>\n",
       "    </tr>\n",
       "    <tr>\n",
       "      <th>299990</th>\n",
       "      <td>bore water over use could lead to prosecutions</td>\n",
       "      <td>299990</td>\n",
       "    </tr>\n",
       "    <tr>\n",
       "      <th>299991</th>\n",
       "      <td>bottleshop owner backs call for long neck beer...</td>\n",
       "      <td>299991</td>\n",
       "    </tr>\n",
       "    <tr>\n",
       "      <th>299992</th>\n",
       "      <td>bracks defends former minister over mokbel deal</td>\n",
       "      <td>299992</td>\n",
       "    </tr>\n",
       "    <tr>\n",
       "      <th>299993</th>\n",
       "      <td>bracks rejects one size fits all curriculum ch...</td>\n",
       "      <td>299993</td>\n",
       "    </tr>\n",
       "    <tr>\n",
       "      <th>299994</th>\n",
       "      <td>broken hill saves summer water</td>\n",
       "      <td>299994</td>\n",
       "    </tr>\n",
       "    <tr>\n",
       "      <th>299995</th>\n",
       "      <td>broughton hall audit reveals serious breaches</td>\n",
       "      <td>299995</td>\n",
       "    </tr>\n",
       "    <tr>\n",
       "      <th>299996</th>\n",
       "      <td>broughton hall fails key standards</td>\n",
       "      <td>299996</td>\n",
       "    </tr>\n",
       "    <tr>\n",
       "      <th>299997</th>\n",
       "      <td>broughton hall safe for residents govt says</td>\n",
       "      <td>299997</td>\n",
       "    </tr>\n",
       "    <tr>\n",
       "      <th>299998</th>\n",
       "      <td>burn off at conservation park aims to prevent</td>\n",
       "      <td>299998</td>\n",
       "    </tr>\n",
       "    <tr>\n",
       "      <th>299999</th>\n",
       "      <td>burns suspended for two games</td>\n",
       "      <td>299999</td>\n",
       "    </tr>\n",
       "  </tbody>\n",
       "</table>\n",
       "<p>300000 rows × 2 columns</p>\n",
       "</div>"
      ],
      "text/plain": [
       "                                            headline_text   index\n",
       "0       aba decides against community broadcasting lic...       0\n",
       "1          act fire witnesses must be aware of defamation       1\n",
       "2          a g calls for infrastructure protection summit       2\n",
       "3                air nz staff in aust strike for pay rise       3\n",
       "4           air nz strike to affect australian travellers       4\n",
       "5                       ambitious olsson wins triple jump       5\n",
       "6              antic delighted with record breaking barca       6\n",
       "7       aussie qualifier stosur wastes four memphis match       7\n",
       "8            aust addresses un security council over iraq       8\n",
       "9              australia is locked into war timetable opp       9\n",
       "10      australia to contribute 10 million in aid to iraq      10\n",
       "11      barca take record as robson celebrates birthda...      11\n",
       "12                             bathhouse plans move ahead      12\n",
       "13          big hopes for launceston cycling championship      13\n",
       "14                 big plan to boost paroo water supplies      14\n",
       "15                 blizzard buries united states in bills      15\n",
       "16         brigadier dismisses reports troops harassed in      16\n",
       "17         british combat troops arriving daily in kuwait      17\n",
       "18             bryant leads lakers to double overtime win      18\n",
       "19               bushfire victims urged to see centrelink      19\n",
       "20        businesses should prepare for terrorist attacks      20\n",
       "21        calleri avenges final defeat to eliminate massu      21\n",
       "22                call for ethanol blend fuel to go ahead      22\n",
       "23                 carews freak goal leaves roma in ruins      23\n",
       "24                           cemeteries miss out on funds      24\n",
       "25      code of conduct toughens organ donation regula...      25\n",
       "26           commonwealth bank cuts fixed home loan rates      26\n",
       "27                 community urged to help homeless youth      27\n",
       "28       council chief executive fails to secure position      28\n",
       "29        councillor to contest wollongong as independent      29\n",
       "...                                                   ...     ...\n",
       "299970                    apple grower builds juice plant  299970\n",
       "299971               aussie ramsi adviser dies in honiara  299971\n",
       "299972  aust honours nz firie burnt during vic firestorms  299972\n",
       "299973                      aust soldiers injured in iraq  299973\n",
       "299974    aust stands out in oecd figures for uni funding  299974\n",
       "299975      aust to build western front museum to diggers  299975\n",
       "299976           awb monopoly not realistic says costello  299976\n",
       "299977         baldings killers allowed to appeal against  299977\n",
       "299978  basinger hires security for daughter after bal...  299978\n",
       "299979      beattie already has a funding pipeline howard  299979\n",
       "299980       bendigo bank loses value after rejecting bid  299980\n",
       "299981                 bendigo bank rejects takeover plan  299981\n",
       "299982                 bhp announces record metals output  299982\n",
       "299983  big crowds expected for goldfields esperance a...  299983\n",
       "299984              blackall sportsman shoots for the top  299984\n",
       "299985                                  blood test for tb  299985\n",
       "299986  boats leave as lakes entrance faces more sand ...  299986\n",
       "299987                       bond oram back to spur kiwis  299987\n",
       "299988                   bonfire to celebrate babys birth  299988\n",
       "299989       bore could solve water problems says liberal  299989\n",
       "299990     bore water over use could lead to prosecutions  299990\n",
       "299991  bottleshop owner backs call for long neck beer...  299991\n",
       "299992    bracks defends former minister over mokbel deal  299992\n",
       "299993  bracks rejects one size fits all curriculum ch...  299993\n",
       "299994                     broken hill saves summer water  299994\n",
       "299995      broughton hall audit reveals serious breaches  299995\n",
       "299996                 broughton hall fails key standards  299996\n",
       "299997        broughton hall safe for residents govt says  299997\n",
       "299998      burn off at conservation park aims to prevent  299998\n",
       "299999                      burns suspended for two games  299999\n",
       "\n",
       "[300000 rows x 2 columns]"
      ]
     },
     "execution_count": 10,
     "metadata": {},
     "output_type": "execute_result"
    }
   ],
   "source": [
    "documents"
   ]
  },
  {
   "cell_type": "markdown",
   "metadata": {},
   "source": [
    "Let's now preprocess all the news headlines we have. To do that, let's use the [map](https://pandas.pydata.org/pandas-docs/stable/generated/pandas.Series.map.html) function from pandas to apply `preprocess()` to the `headline_text` column\n",
    "\n",
    "**Note**: This may take a few minutes (it take 6 minutes on my laptop)"
   ]
  },
  {
   "cell_type": "code",
   "execution_count": 14,
   "metadata": {},
   "outputs": [],
   "source": [
    "# TODO: preprocess all the headlines, saving the list of results as 'processed_docs'\n",
    "processed_docs = documents['headline_text'].map(preprocess)"
   ]
  },
  {
   "cell_type": "code",
   "execution_count": 15,
   "metadata": {},
   "outputs": [
    {
     "data": {
      "text/plain": [
       "0            [decid, communiti, broadcast, licenc]\n",
       "1                               [wit, awar, defam]\n",
       "2           [call, infrastructur, protect, summit]\n",
       "3                      [staff, aust, strike, rise]\n",
       "4             [strike, affect, australian, travel]\n",
       "5               [ambiti, olsson, win, tripl, jump]\n",
       "6           [antic, delight, record, break, barca]\n",
       "7    [aussi, qualifi, stosur, wast, memphi, match]\n",
       "8            [aust, address, secur, council, iraq]\n",
       "9                         [australia, lock, timet]\n",
       "Name: headline_text, dtype: object"
      ]
     },
     "execution_count": 15,
     "metadata": {},
     "output_type": "execute_result"
    }
   ],
   "source": [
    "'''\n",
    "Preview 'processed_docs'\n",
    "'''\n",
    "processed_docs[:10]"
   ]
  },
  {
   "cell_type": "markdown",
   "metadata": {},
   "source": [
    "## Step 3.1: Bag of words on the dataset\n",
    "\n",
    "Now let's create a dictionary from 'processed_docs' containing the number of times a word appears in the training set. To do that, let's pass `processed_docs` to [`gensim.corpora.Dictionary()`](https://radimrehurek.com/gensim/corpora/dictionary.html) and call it '`dictionary`'."
   ]
  },
  {
   "cell_type": "code",
   "execution_count": 16,
   "metadata": {},
   "outputs": [],
   "source": [
    "'''\n",
    "Create a dictionary from 'processed_docs' containing the number of times a word appears \n",
    "in the training set using gensim.corpora.Dictionary and call it 'dictionary'\n",
    "'''\n",
    "dictionary = gensim.corpora.Dictionary(processed_docs)"
   ]
  },
  {
   "cell_type": "code",
   "execution_count": 17,
   "metadata": {},
   "outputs": [
    {
     "name": "stdout",
     "output_type": "stream",
     "text": [
      "0 broadcast\n",
      "1 communiti\n",
      "2 decid\n",
      "3 licenc\n",
      "4 awar\n",
      "5 defam\n",
      "6 wit\n",
      "7 call\n",
      "8 infrastructur\n",
      "9 protect\n",
      "10 summit\n"
     ]
    }
   ],
   "source": [
    "'''\n",
    "Checking dictionary created\n",
    "'''\n",
    "count = 0\n",
    "for k, v in dictionary.iteritems():\n",
    "    print(k, v)\n",
    "    count += 1\n",
    "    if count > 10:\n",
    "        break"
   ]
  },
  {
   "cell_type": "markdown",
   "metadata": {},
   "source": [
    "** Gensim filter_extremes **\n",
    "\n",
    "[`filter_extremes(no_below=5, no_above=0.5, keep_n=100000)`](https://radimrehurek.com/gensim/corpora/dictionary.html#gensim.corpora.dictionary.Dictionary.filter_extremes)\n",
    "\n",
    "Filter out tokens that appear in\n",
    "\n",
    "* less than no_below documents (absolute number) or\n",
    "* more than no_above documents (fraction of total corpus size, not absolute number).\n",
    "* after (1) and (2), keep only the first keep_n most frequent tokens (or keep all if None)."
   ]
  },
  {
   "cell_type": "code",
   "execution_count": 18,
   "metadata": {},
   "outputs": [],
   "source": [
    "'''\n",
    "OPTIONAL STEP\n",
    "Remove very rare and very common words:\n",
    "\n",
    "- words appearing less than 15 times\n",
    "- words appearing in more than 10% of all documents\n",
    "'''\n",
    "# TODO: apply dictionary.filter_extremes() with the parameters mentioned above\n",
    "dictionary.filter_extremes(no_below=15, no_above=0.1)"
   ]
  },
  {
   "cell_type": "markdown",
   "metadata": {},
   "source": [
    "** Gensim doc2bow **\n",
    "\n",
    "[`doc2bow(document)`](https://radimrehurek.com/gensim/corpora/dictionary.html#gensim.corpora.dictionary.Dictionary.doc2bow)\n",
    "\n",
    "* Convert document (a list of words) into the bag-of-words format = list of (token_id, token_count) 2-tuples. Each word is assumed to be a tokenized and normalized string (either unicode or utf8-encoded). No further preprocessing is done on the words in document; apply tokenization, stemming etc. before calling this method."
   ]
  },
  {
   "cell_type": "code",
   "execution_count": 25,
   "metadata": {},
   "outputs": [],
   "source": [
    "'''\n",
    "Create the Bag-of-words model for each document i.e for each document we create a dictionary reporting how many\n",
    "words and how many times those words appear. Save this to 'bow_corpus'\n",
    "'''\n",
    "# TODO\n",
    "bow_corpus = [dictionary.doc2bow(document) for document in processed_docs]"
   ]
  },
  {
   "cell_type": "code",
   "execution_count": 26,
   "metadata": {},
   "outputs": [
    {
     "data": {
      "text/plain": [
       "[(71, 1), (107, 1), (462, 1), (3530, 1)]"
      ]
     },
     "execution_count": 26,
     "metadata": {},
     "output_type": "execute_result"
    }
   ],
   "source": [
    "'''\n",
    "Checking Bag of Words corpus for our sample document --> (token_id, token_count)\n",
    "'''\n",
    "bow_corpus[document_num]"
   ]
  },
  {
   "cell_type": "code",
   "execution_count": 27,
   "metadata": {},
   "outputs": [
    {
     "name": "stdout",
     "output_type": "stream",
     "text": [
      "Word 71 (\"bushfir\") appears 1 time.\n",
      "Word 107 (\"help\") appears 1 time.\n",
      "Word 462 (\"rain\") appears 1 time.\n",
      "Word 3530 (\"dampen\") appears 1 time.\n"
     ]
    }
   ],
   "source": [
    "'''\n",
    "Preview BOW for our sample preprocessed document\n",
    "'''\n",
    "# Here document_num is document number 4310 which we have checked in Step 2\n",
    "bow_doc_4310 = bow_corpus[document_num]\n",
    "\n",
    "for i in range(len(bow_doc_4310)):\n",
    "    print(\"Word {} (\\\"{}\\\") appears {} time.\".format(bow_doc_4310[i][0], \n",
    "                                                     dictionary[bow_doc_4310[i][0]], \n",
    "                                                     bow_doc_4310[i][1]))"
   ]
  },
  {
   "cell_type": "markdown",
   "metadata": {},
   "source": [
    "## Step 3.2: TF-IDF on our document set ##\n",
    "\n",
    "While performing TF-IDF on the corpus is not necessary for LDA implemention using the gensim model, it is recemmended. TF-IDF expects a bag-of-words (integer values) training corpus during initialization. During transformation, it will take a vector and return another vector of the same dimensionality.\n",
    "\n",
    "*Please note: The author of Gensim dictates the standard procedure for LDA to be using the Bag of Words model.*"
   ]
  },
  {
   "cell_type": "markdown",
   "metadata": {},
   "source": [
    "** TF-IDF stands for \"Term Frequency, Inverse Document Frequency\".**\n",
    "\n",
    "* It is a way to score the importance of words (or \"terms\") in a document based on how frequently they appear across multiple documents.\n",
    "* If a word appears frequently in a document, it's important. Give the word a high score. But if a word appears in many documents, it's not a unique identifier. Give the word a low score.\n",
    "* Therefore, common words like \"the\" and \"for\", which appear in many documents, will be scaled down. Words that appear frequently in a single document will be scaled up.\n",
    "\n",
    "In other words:\n",
    "\n",
    "* TF(w) = `(Number of times term w appears in a document) / (Total number of terms in the document)`.\n",
    "* IDF(w) = `log_e(Total number of documents / Number of documents with term w in it)`.\n",
    "\n",
    "** For example **\n",
    "\n",
    "* Consider a document containing `100` words wherein the word 'tiger' appears 3 times. \n",
    "* The term frequency (i.e., tf) for 'tiger' is then: \n",
    "    - `TF = (3 / 100) = 0.03`. \n",
    "\n",
    "* Now, assume we have `10 million` documents and the word 'tiger' appears in `1000` of these. Then, the inverse document frequency (i.e., idf) is calculated as:\n",
    "    - `IDF = log(10,000,000 / 1,000) = 4`. \n",
    "\n",
    "* Thus, the Tf-idf weight is the product of these quantities: \n",
    "    - `TF-IDF = 0.03 * 4 = 0.12`."
   ]
  },
  {
   "cell_type": "code",
   "execution_count": 28,
   "metadata": {},
   "outputs": [],
   "source": [
    "'''\n",
    "Create tf-idf model object using models.TfidfModel on 'bow_corpus' and save it to 'tfidf'\n",
    "'''\n",
    "from gensim import corpora, models\n",
    "\n",
    "# TODO\n",
    "tfidf = models.TfidfModel(bow_corpus)"
   ]
  },
  {
   "cell_type": "code",
   "execution_count": 30,
   "metadata": {},
   "outputs": [],
   "source": [
    "'''\n",
    "Apply transformation to the entire corpus and call it 'corpus_tfidf'\n",
    "'''\n",
    "# TODO\n",
    "corpus_tfidf = tfidf[bow_corpus]"
   ]
  },
  {
   "cell_type": "code",
   "execution_count": 31,
   "metadata": {},
   "outputs": [
    {
     "name": "stdout",
     "output_type": "stream",
     "text": [
      "[(0, 0.5959813347777092),\n",
      " (1, 0.39204529549491984),\n",
      " (2, 0.48531419274988147),\n",
      " (3, 0.50554610985785686)]\n"
     ]
    }
   ],
   "source": [
    "'''\n",
    "Preview TF-IDF scores for our first document --> --> (token_id, tfidf score)\n",
    "'''\n",
    "from pprint import pprint\n",
    "for doc in corpus_tfidf:\n",
    "    pprint(doc)\n",
    "    break"
   ]
  },
  {
   "cell_type": "markdown",
   "metadata": {},
   "source": [
    "## Step 4.1: Running LDA using Bag of Words ##\n",
    "\n",
    "We are going for 10 topics in the document corpus.\n",
    "\n",
    "** We will be running LDA using all CPU cores to parallelize and speed up model training.**\n",
    "\n",
    "Some of the parameters we will be tweaking are:\n",
    "\n",
    "* **num_topics** is the number of requested latent topics to be extracted from the training corpus.\n",
    "* **id2word** is a mapping from word ids (integers) to words (strings). It is used to determine the vocabulary size, as well as for debugging and topic printing.\n",
    "* **workers** is the number of extra processes to use for parallelization. Uses all available cores by default.\n",
    "* **alpha** and **eta** are hyperparameters that affect sparsity of the document-topic (theta) and topic-word (lambda) distributions. We will let these be the default values for now(default value is `1/num_topics`)\n",
    "    - Alpha is the per document topic distribution.\n",
    "        * High alpha: Every document has a mixture of all topics(documents appear similar to each other).\n",
    "        * Low alpha: Every document has a mixture of very few topics\n",
    "\n",
    "    - Eta is the per topic word distribution.\n",
    "        * High eta: Each topic has a mixture of most words(topics appear similar to each other).\n",
    "        * Low eta: Each topic has a mixture of few words.\n",
    "\n",
    "* ** passes ** is the number of training passes through the corpus. For  example, if the training corpus has 50,000 documents, chunksize is  10,000, passes is 2, then online training is done in 10 updates: \n",
    "    * `#1 documents 0-9,999 `\n",
    "    * `#2 documents 10,000-19,999 `\n",
    "    * `#3 documents 20,000-29,999 `\n",
    "    * `#4 documents 30,000-39,999 `\n",
    "    * `#5 documents 40,000-49,999 `\n",
    "    * `#6 documents 0-9,999 `\n",
    "    * `#7 documents 10,000-19,999 `\n",
    "    * `#8 documents 20,000-29,999 `\n",
    "    * `#9 documents 30,000-39,999 `\n",
    "    * `#10 documents 40,000-49,999` "
   ]
  },
  {
   "cell_type": "code",
   "execution_count": 34,
   "metadata": {},
   "outputs": [],
   "source": [
    "# LDA mono-core -- fallback code in case LdaMulticore throws an error on your machine\n",
    "# lda_model = gensim.models.LdaModel(bow_corpus, \n",
    "#                                    num_topics = 10, \n",
    "#                                    id2word = dictionary,                                    \n",
    "#                                    passes = 50)\n",
    "\n",
    "# LDA multicore \n",
    "'''\n",
    "Train your lda model using gensim.models.LdaMulticore and save it to 'lda_model'\n",
    "'''\n",
    "# TODO\n",
    "lda_model = gensim.models.LdaMulticore(bow_corpus, num_topics=10, id2word=dictionary, passes=2)"
   ]
  },
  {
   "cell_type": "code",
   "execution_count": 35,
   "metadata": {},
   "outputs": [
    {
     "name": "stdout",
     "output_type": "stream",
     "text": [
      "Topic: 0.025*\"closer\" + 0.021*\"test\" + 0.018*\"lead\" + 0.016*\"take\" + 0.014*\"south\" + 0.012*\"author\" + 0.012*\"law\" + 0.012*\"inquiri\" + 0.012*\"crew\" + 0.011*\"bushfir\" \n",
      "Words: 0\n",
      "\n",
      "\n",
      "Topic: 0.061*\"polic\" + 0.025*\"miss\" + 0.025*\"seek\" + 0.017*\"search\" + 0.015*\"arrest\" + 0.013*\"help\" + 0.013*\"region\" + 0.012*\"train\" + 0.011*\"offic\" + 0.011*\"sydney\" \n",
      "Words: 1\n",
      "\n",
      "\n",
      "Topic: 0.025*\"aust\" + 0.021*\"drought\" + 0.019*\"australia\" + 0.017*\"record\" + 0.016*\"break\" + 0.015*\"troop\" + 0.015*\"look\" + 0.014*\"farmer\" + 0.014*\"rain\" + 0.012*\"dead\" \n",
      "Words: 2\n",
      "\n",
      "\n",
      "Topic: 0.058*\"water\" + 0.032*\"warn\" + 0.017*\"worker\" + 0.016*\"rise\" + 0.015*\"driver\" + 0.014*\"industri\" + 0.014*\"continu\" + 0.012*\"rudd\" + 0.012*\"busi\" + 0.011*\"union\" \n",
      "Words: 3\n",
      "\n",
      "\n",
      "Topic: 0.018*\"elect\" + 0.016*\"labor\" + 0.016*\"howard\" + 0.015*\"high\" + 0.014*\"say\" + 0.013*\"market\" + 0.013*\"concern\" + 0.012*\"chief\" + 0.012*\"reject\" + 0.011*\"opposit\" \n",
      "Words: 4\n",
      "\n",
      "\n",
      "Topic: 0.033*\"charg\" + 0.031*\"crash\" + 0.029*\"kill\" + 0.028*\"court\" + 0.028*\"polic\" + 0.027*\"face\" + 0.020*\"attack\" + 0.018*\"investig\" + 0.017*\"murder\" + 0.014*\"accus\" \n",
      "Words: 5\n",
      "\n",
      "\n",
      "Topic: 0.032*\"group\" + 0.018*\"blaze\" + 0.017*\"return\" + 0.016*\"work\" + 0.014*\"question\" + 0.013*\"firefight\" + 0.013*\"aussi\" + 0.013*\"green\" + 0.012*\"futur\" + 0.011*\"unit\" \n",
      "Words: 6\n",
      "\n",
      "\n",
      "Topic: 0.028*\"jail\" + 0.023*\"road\" + 0.021*\"year\" + 0.020*\"open\" + 0.017*\"talk\" + 0.017*\"coast\" + 0.016*\"centr\" + 0.015*\"death\" + 0.013*\"storm\" + 0.013*\"releas\" \n",
      "Words: 7\n",
      "\n",
      "\n",
      "Topic: 0.069*\"govt\" + 0.039*\"council\" + 0.030*\"plan\" + 0.024*\"urg\" + 0.021*\"fund\" + 0.014*\"boost\" + 0.014*\"servic\" + 0.013*\"defend\" + 0.013*\"back\" + 0.011*\"health\" \n",
      "Words: 8\n",
      "\n",
      "\n",
      "Topic: 0.025*\"power\" + 0.018*\"win\" + 0.017*\"nuclear\" + 0.017*\"hick\" + 0.017*\"push\" + 0.015*\"minist\" + 0.014*\"final\" + 0.014*\"safeti\" + 0.013*\"wont\" + 0.012*\"compani\" \n",
      "Words: 9\n",
      "\n",
      "\n"
     ]
    }
   ],
   "source": [
    "'''\n",
    "For each topic, we will explore the words occuring in that topic and its relative weight\n",
    "'''\n",
    "for idx, topic in lda_model.print_topics(-1):\n",
    "    print(\"Topic: {} \\nWords: {}\".format(topic, idx ))\n",
    "    print(\"\\n\")"
   ]
  },
  {
   "cell_type": "markdown",
   "metadata": {},
   "source": [
    "### Classification of the topics ###\n",
    "\n",
    "Using the words in each topic and their corresponding weights, what categories were you able to infer?\n",
    "\n",
    "* 0: Legal???\n",
    "* 1: Law Enforcement\n",
    "* 2: Weather disaster/bad harvest\n",
    "* 3: Natural disaster\n",
    "* 4: Politics\n",
    "* 5: Legal proceedings/murder investigation\n",
    "* 6: Fire\n",
    "* 7: Prison related\n",
    "* 8: Government related\n",
    "* 9: Nuclear power"
   ]
  },
  {
   "cell_type": "markdown",
   "metadata": {},
   "source": [
    "## Step 4.2 Running LDA using TF-IDF ##"
   ]
  },
  {
   "cell_type": "code",
   "execution_count": 36,
   "metadata": {},
   "outputs": [],
   "source": [
    "'''\n",
    "Define lda model using corpus_tfidf, again using gensim.models.LdaMulticore()\n",
    "'''\n",
    "# TODO\n",
    "lda_model_tfidf = gensim.models.LdaMulticore(bow_corpus, num_topics=10, id2word=dictionary, passes=2)"
   ]
  },
  {
   "cell_type": "code",
   "execution_count": 37,
   "metadata": {},
   "outputs": [
    {
     "name": "stdout",
     "output_type": "stream",
     "text": [
      "Topic: 0 Word: 0.021*\"home\" + 0.020*\"power\" + 0.019*\"servic\" + 0.019*\"worker\" + 0.018*\"say\" + 0.016*\"howard\" + 0.015*\"return\" + 0.014*\"hick\" + 0.013*\"need\" + 0.013*\"health\"\n",
      "\n",
      "\n",
      "Topic: 1 Word: 0.035*\"kill\" + 0.028*\"crash\" + 0.025*\"iraq\" + 0.025*\"miss\" + 0.024*\"attack\" + 0.019*\"polic\" + 0.017*\"search\" + 0.016*\"die\" + 0.015*\"arrest\" + 0.014*\"troop\"\n",
      "\n",
      "\n",
      "Topic: 2 Word: 0.065*\"water\" + 0.020*\"aust\" + 0.014*\"market\" + 0.014*\"farmer\" + 0.011*\"price\" + 0.011*\"rain\" + 0.010*\"flood\" + 0.010*\"sale\" + 0.010*\"compani\" + 0.010*\"river\"\n",
      "\n",
      "\n",
      "Topic: 3 Word: 0.025*\"drought\" + 0.019*\"open\" + 0.017*\"protest\" + 0.015*\"appeal\" + 0.014*\"timor\" + 0.013*\"law\" + 0.012*\"action\" + 0.012*\"blue\" + 0.011*\"close\" + 0.011*\"sentenc\"\n",
      "\n",
      "\n",
      "Topic: 4 Word: 0.017*\"high\" + 0.016*\"coast\" + 0.016*\"win\" + 0.016*\"take\" + 0.015*\"england\" + 0.015*\"rudd\" + 0.015*\"world\" + 0.014*\"south\" + 0.012*\"stand\" + 0.012*\"north\"\n",
      "\n",
      "\n",
      "Topic: 5 Word: 0.053*\"govt\" + 0.031*\"plan\" + 0.029*\"council\" + 0.028*\"urg\" + 0.022*\"fund\" + 0.018*\"group\" + 0.016*\"chang\" + 0.014*\"say\" + 0.013*\"opposit\" + 0.012*\"minist\"\n",
      "\n",
      "\n",
      "Topic: 6 Word: 0.026*\"closer\" + 0.021*\"deni\" + 0.019*\"hous\" + 0.017*\"break\" + 0.017*\"deal\" + 0.012*\"labor\" + 0.012*\"futur\" + 0.012*\"target\" + 0.011*\"campaign\" + 0.010*\"tiger\"\n",
      "\n",
      "\n",
      "Topic: 7 Word: 0.028*\"claim\" + 0.022*\"reject\" + 0.020*\"school\" + 0.019*\"elect\" + 0.018*\"resid\" + 0.017*\"support\" + 0.015*\"govt\" + 0.015*\"look\" + 0.014*\"nuclear\" + 0.013*\"land\"\n",
      "\n",
      "\n",
      "Topic: 8 Word: 0.063*\"polic\" + 0.033*\"charg\" + 0.025*\"death\" + 0.022*\"investig\" + 0.020*\"face\" + 0.018*\"sydney\" + 0.017*\"murder\" + 0.017*\"rise\" + 0.017*\"jail\" + 0.014*\"court\"\n",
      "\n",
      "\n",
      "Topic: 9 Word: 0.026*\"nation\" + 0.024*\"lead\" + 0.022*\"test\" + 0.021*\"court\" + 0.016*\"rule\" + 0.015*\"australia\" + 0.014*\"trial\" + 0.012*\"guilti\" + 0.012*\"drug\" + 0.011*\"tell\"\n",
      "\n",
      "\n"
     ]
    }
   ],
   "source": [
    "'''\n",
    "For each topic, we will explore the words occuring in that topic and its relative weight\n",
    "'''\n",
    "for idx, topic in lda_model_tfidf.print_topics(-1):\n",
    "    print(\"Topic: {} Word: {}\".format(idx, topic))\n",
    "    print(\"\\n\")"
   ]
  },
  {
   "cell_type": "markdown",
   "metadata": {},
   "source": [
    "### Classification of the topics ###\n",
    "\n",
    "As we can see, when using tf-idf, heavier weights are given to words that are not as frequent which results in nouns being factored in. That makes it harder to figure out the categories as nouns can be hard to categorize. This goes to show that the models we apply depend on the type of corpus of text we are dealing with. \n",
    "\n",
    "Using the words in each topic and their corresponding weights, what categories could you find?\n",
    "\n",
    "* 0: Powering the home??\n",
    "* 1: A deadly incident in Iraq\n",
    "* 2: Flooding\n",
    "* 3: Protests regarding a drought\n",
    "* 4: Political scenario in Britain\n",
    "* 5: Government funding for a program\n",
    "* 6: Political campaign??\n",
    "* 7: Political campaign\n",
    "* 8: Police investigation in Australia\n",
    "* 9: Court proceedings in Australia regarding drugs"
   ]
  },
  {
   "cell_type": "markdown",
   "metadata": {},
   "source": [
    "## Step 5.1: Performance evaluation by classifying sample document using LDA Bag of Words model##\n",
    "\n",
    "We will check to see where our test document would be classified. "
   ]
  },
  {
   "cell_type": "code",
   "execution_count": 38,
   "metadata": {},
   "outputs": [
    {
     "data": {
      "text/plain": [
       "['rain', 'help', 'dampen', 'bushfir']"
      ]
     },
     "execution_count": 38,
     "metadata": {},
     "output_type": "execute_result"
    }
   ],
   "source": [
    "'''\n",
    "Text of sample document 4310\n",
    "'''\n",
    "processed_docs[4310]"
   ]
  },
  {
   "cell_type": "code",
   "execution_count": 39,
   "metadata": {},
   "outputs": [
    {
     "name": "stdout",
     "output_type": "stream",
     "text": [
      "\n",
      "Score: 0.619991660118103\t \n",
      "Topic: 0.025*\"aust\" + 0.021*\"drought\" + 0.019*\"australia\" + 0.017*\"record\" + 0.016*\"break\" + 0.015*\"troop\" + 0.015*\"look\" + 0.014*\"farmer\" + 0.014*\"rain\" + 0.012*\"dead\"\n",
      "\n",
      "Score: 0.2199999988079071\t \n",
      "Topic: 0.025*\"closer\" + 0.021*\"test\" + 0.018*\"lead\" + 0.016*\"take\" + 0.014*\"south\" + 0.012*\"author\" + 0.012*\"law\" + 0.012*\"inquiri\" + 0.012*\"crew\" + 0.011*\"bushfir\"\n",
      "\n",
      "Score: 0.020006190985441208\t \n",
      "Topic: 0.061*\"polic\" + 0.025*\"miss\" + 0.025*\"seek\" + 0.017*\"search\" + 0.015*\"arrest\" + 0.013*\"help\" + 0.013*\"region\" + 0.012*\"train\" + 0.011*\"offic\" + 0.011*\"sydney\"\n",
      "\n",
      "Score: 0.020001988857984543\t \n",
      "Topic: 0.069*\"govt\" + 0.039*\"council\" + 0.030*\"plan\" + 0.024*\"urg\" + 0.021*\"fund\" + 0.014*\"boost\" + 0.014*\"servic\" + 0.013*\"defend\" + 0.013*\"back\" + 0.011*\"health\"\n",
      "\n",
      "Score: 0.020000113174319267\t \n",
      "Topic: 0.058*\"water\" + 0.032*\"warn\" + 0.017*\"worker\" + 0.016*\"rise\" + 0.015*\"driver\" + 0.014*\"industri\" + 0.014*\"continu\" + 0.012*\"rudd\" + 0.012*\"busi\" + 0.011*\"union\"\n",
      "\n",
      "Score: 0.019999999552965164\t \n",
      "Topic: 0.018*\"elect\" + 0.016*\"labor\" + 0.016*\"howard\" + 0.015*\"high\" + 0.014*\"say\" + 0.013*\"market\" + 0.013*\"concern\" + 0.012*\"chief\" + 0.012*\"reject\" + 0.011*\"opposit\"\n",
      "\n",
      "Score: 0.019999999552965164\t \n",
      "Topic: 0.033*\"charg\" + 0.031*\"crash\" + 0.029*\"kill\" + 0.028*\"court\" + 0.028*\"polic\" + 0.027*\"face\" + 0.020*\"attack\" + 0.018*\"investig\" + 0.017*\"murder\" + 0.014*\"accus\"\n",
      "\n",
      "Score: 0.019999999552965164\t \n",
      "Topic: 0.032*\"group\" + 0.018*\"blaze\" + 0.017*\"return\" + 0.016*\"work\" + 0.014*\"question\" + 0.013*\"firefight\" + 0.013*\"aussi\" + 0.013*\"green\" + 0.012*\"futur\" + 0.011*\"unit\"\n",
      "\n",
      "Score: 0.019999999552965164\t \n",
      "Topic: 0.028*\"jail\" + 0.023*\"road\" + 0.021*\"year\" + 0.020*\"open\" + 0.017*\"talk\" + 0.017*\"coast\" + 0.016*\"centr\" + 0.015*\"death\" + 0.013*\"storm\" + 0.013*\"releas\"\n",
      "\n",
      "Score: 0.019999999552965164\t \n",
      "Topic: 0.025*\"power\" + 0.018*\"win\" + 0.017*\"nuclear\" + 0.017*\"hick\" + 0.017*\"push\" + 0.015*\"minist\" + 0.014*\"final\" + 0.014*\"safeti\" + 0.013*\"wont\" + 0.012*\"compani\"\n"
     ]
    }
   ],
   "source": [
    "'''\n",
    "Check which topic our test document belongs to using the LDA Bag of Words model.\n",
    "'''\n",
    "document_num = 4310\n",
    "# Our test document is document number 4310\n",
    "\n",
    "# TODO\n",
    "# Our test document is document number 4310\n",
    "for index, score in sorted(lda_model[bow_corpus[document_num]], key=lambda tup: -1*tup[1]):\n",
    "    print(\"\\nScore: {}\\t \\nTopic: {}\".format(score, lda_model.print_topic(index, 10)))"
   ]
  },
  {
   "cell_type": "markdown",
   "metadata": {},
   "source": [
    "### It has the highest probability (`x`) to be  part of the topic that we assigned as X, which is the accurate classification. ###"
   ]
  },
  {
   "cell_type": "markdown",
   "metadata": {},
   "source": [
    "## Step 5.2: Performance evaluation by classifying sample document using LDA TF-IDF model##"
   ]
  },
  {
   "cell_type": "code",
   "execution_count": 40,
   "metadata": {},
   "outputs": [
    {
     "name": "stdout",
     "output_type": "stream",
     "text": [
      "\n",
      "Score: 0.3318270444869995\t \n",
      "Topic: 0.053*\"govt\" + 0.031*\"plan\" + 0.029*\"council\" + 0.028*\"urg\" + 0.022*\"fund\" + 0.018*\"group\" + 0.016*\"chang\" + 0.014*\"say\" + 0.013*\"opposit\" + 0.012*\"minist\"\n",
      "\n",
      "Score: 0.28934258222579956\t \n",
      "Topic: 0.065*\"water\" + 0.020*\"aust\" + 0.014*\"market\" + 0.014*\"farmer\" + 0.011*\"price\" + 0.011*\"rain\" + 0.010*\"flood\" + 0.010*\"sale\" + 0.010*\"compani\" + 0.010*\"river\"\n",
      "\n",
      "Score: 0.2388238161802292\t \n",
      "Topic: 0.026*\"closer\" + 0.021*\"deni\" + 0.019*\"hous\" + 0.017*\"break\" + 0.017*\"deal\" + 0.012*\"labor\" + 0.012*\"futur\" + 0.012*\"target\" + 0.011*\"campaign\" + 0.010*\"tiger\"\n",
      "\n",
      "Score: 0.020001571625471115\t \n",
      "Topic: 0.025*\"drought\" + 0.019*\"open\" + 0.017*\"protest\" + 0.015*\"appeal\" + 0.014*\"timor\" + 0.013*\"law\" + 0.012*\"action\" + 0.012*\"blue\" + 0.011*\"close\" + 0.011*\"sentenc\"\n",
      "\n",
      "Score: 0.020001504570245743\t \n",
      "Topic: 0.017*\"high\" + 0.016*\"coast\" + 0.016*\"win\" + 0.016*\"take\" + 0.015*\"england\" + 0.015*\"rudd\" + 0.015*\"world\" + 0.014*\"south\" + 0.012*\"stand\" + 0.012*\"north\"\n",
      "\n",
      "Score: 0.020001372322440147\t \n",
      "Topic: 0.028*\"claim\" + 0.022*\"reject\" + 0.020*\"school\" + 0.019*\"elect\" + 0.018*\"resid\" + 0.017*\"support\" + 0.015*\"govt\" + 0.015*\"look\" + 0.014*\"nuclear\" + 0.013*\"land\"\n",
      "\n",
      "Score: 0.02000107802450657\t \n",
      "Topic: 0.021*\"home\" + 0.020*\"power\" + 0.019*\"servic\" + 0.019*\"worker\" + 0.018*\"say\" + 0.016*\"howard\" + 0.015*\"return\" + 0.014*\"hick\" + 0.013*\"need\" + 0.013*\"health\"\n",
      "\n",
      "Score: 0.020001033321022987\t \n",
      "Topic: 0.063*\"polic\" + 0.033*\"charg\" + 0.025*\"death\" + 0.022*\"investig\" + 0.020*\"face\" + 0.018*\"sydney\" + 0.017*\"murder\" + 0.017*\"rise\" + 0.017*\"jail\" + 0.014*\"court\"\n",
      "\n",
      "Score: 0.019999999552965164\t \n",
      "Topic: 0.035*\"kill\" + 0.028*\"crash\" + 0.025*\"iraq\" + 0.025*\"miss\" + 0.024*\"attack\" + 0.019*\"polic\" + 0.017*\"search\" + 0.016*\"die\" + 0.015*\"arrest\" + 0.014*\"troop\"\n",
      "\n",
      "Score: 0.019999999552965164\t \n",
      "Topic: 0.026*\"nation\" + 0.024*\"lead\" + 0.022*\"test\" + 0.021*\"court\" + 0.016*\"rule\" + 0.015*\"australia\" + 0.014*\"trial\" + 0.012*\"guilti\" + 0.012*\"drug\" + 0.011*\"tell\"\n"
     ]
    }
   ],
   "source": [
    "'''\n",
    "Check which topic our test document belongs to using the LDA TF-IDF model.\n",
    "'''\n",
    "# Our test document is document number 4310\n",
    "for index, score in sorted(lda_model_tfidf[bow_corpus[document_num]], key=lambda tup: -1*tup[1]):\n",
    "    print(\"\\nScore: {}\\t \\nTopic: {}\".format(score, lda_model_tfidf.print_topic(index, 10)))"
   ]
  },
  {
   "cell_type": "markdown",
   "metadata": {},
   "source": [
    "### It has the highest probability (`x%`) to be  part of the topic that we assigned as X. ###"
   ]
  },
  {
   "cell_type": "markdown",
   "metadata": {},
   "source": [
    "## Step 6: Testing model on unseen document ##"
   ]
  },
  {
   "cell_type": "code",
   "execution_count": 41,
   "metadata": {},
   "outputs": [
    {
     "name": "stdout",
     "output_type": "stream",
     "text": [
      "Score: 0.4200001657009125\t Topic: 0.025*\"power\" + 0.018*\"win\" + 0.017*\"nuclear\" + 0.017*\"hick\" + 0.017*\"push\"\n",
      "Score: 0.2200000286102295\t Topic: 0.025*\"closer\" + 0.021*\"test\" + 0.018*\"lead\" + 0.016*\"take\" + 0.014*\"south\"\n",
      "Score: 0.21999983489513397\t Topic: 0.058*\"water\" + 0.032*\"warn\" + 0.017*\"worker\" + 0.016*\"rise\" + 0.015*\"driver\"\n",
      "Score: 0.020000001415610313\t Topic: 0.061*\"polic\" + 0.025*\"miss\" + 0.025*\"seek\" + 0.017*\"search\" + 0.015*\"arrest\"\n",
      "Score: 0.020000001415610313\t Topic: 0.025*\"aust\" + 0.021*\"drought\" + 0.019*\"australia\" + 0.017*\"record\" + 0.016*\"break\"\n",
      "Score: 0.020000001415610313\t Topic: 0.018*\"elect\" + 0.016*\"labor\" + 0.016*\"howard\" + 0.015*\"high\" + 0.014*\"say\"\n",
      "Score: 0.020000001415610313\t Topic: 0.033*\"charg\" + 0.031*\"crash\" + 0.029*\"kill\" + 0.028*\"court\" + 0.028*\"polic\"\n",
      "Score: 0.020000001415610313\t Topic: 0.032*\"group\" + 0.018*\"blaze\" + 0.017*\"return\" + 0.016*\"work\" + 0.014*\"question\"\n",
      "Score: 0.020000001415610313\t Topic: 0.028*\"jail\" + 0.023*\"road\" + 0.021*\"year\" + 0.020*\"open\" + 0.017*\"talk\"\n",
      "Score: 0.020000001415610313\t Topic: 0.069*\"govt\" + 0.039*\"council\" + 0.030*\"plan\" + 0.024*\"urg\" + 0.021*\"fund\"\n"
     ]
    }
   ],
   "source": [
    "unseen_document = \"My favorite sports activities are running and swimming.\"\n",
    "\n",
    "# Data preprocessing step for the unseen document\n",
    "bow_vector = dictionary.doc2bow(preprocess(unseen_document))\n",
    "\n",
    "for index, score in sorted(lda_model[bow_vector], key=lambda tup: -1*tup[1]):\n",
    "    print(\"Score: {}\\t Topic: {}\".format(score, lda_model.print_topic(index, 5)))"
   ]
  },
  {
   "cell_type": "markdown",
   "metadata": {},
   "source": [
    "The model correctly classifies the unseen document with 'x'% probability to the X category."
   ]
  }
 ],
 "metadata": {
  "kernelspec": {
   "display_name": "Python 3",
   "language": "python",
   "name": "python3"
  },
  "language_info": {
   "codemirror_mode": {
    "name": "ipython",
    "version": 3
   },
   "file_extension": ".py",
   "mimetype": "text/x-python",
   "name": "python",
   "nbconvert_exporter": "python",
   "pygments_lexer": "ipython3",
   "version": "3.6.3"
  }
 },
 "nbformat": 4,
 "nbformat_minor": 1
}
